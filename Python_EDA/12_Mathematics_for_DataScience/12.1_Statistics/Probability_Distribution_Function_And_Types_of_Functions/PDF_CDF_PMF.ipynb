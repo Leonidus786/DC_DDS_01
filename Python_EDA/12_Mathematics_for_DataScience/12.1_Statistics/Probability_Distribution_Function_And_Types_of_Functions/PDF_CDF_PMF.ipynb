{
 "cells": [
  {
   "cell_type": "markdown",
   "id": "0dbc3110",
   "metadata": {},
   "source": [
    "### Probability Distribution Functions :- It describes how the probabilities are distributed over the values of a Random Variable."
   ]
  },
  {
   "cell_type": "markdown",
   "id": "2d3eff2c",
   "metadata": {},
   "source": [
    "## Probability Mass Function (PMF)\n",
    "#### PMF stands for Probability Mass Function. It is a mathematical function that describes the probability distribution of a discrete random variable."
   ]
  },
  {
   "cell_type": "markdown",
   "id": "a48aa45f",
   "metadata": {},
   "source": [
    "\n",
    "### 1. **PMF (Probability Mass Function)**  \n",
    "- **Kya hai yeh?** Yeh **discrete random variables** ke liye hota hai. Discrete matlab jo cheez sirf kuchh specific values hi le sakti hai, jaise dice ke number (1, 2, 3, 4, 5, ya 6). PMF har value ke liye bolta hai, \"Iska kitna chance hai?\"\n",
    "- **Simple Hindi mein:** Yeh ek rule hai jo kehta hai, “Agar yeh number aaya, toh iski probability itni hai.” Jaise dice mein har number ka chance 1/6 hai.\n",
    "- **Example:** Ek dice le lo:\n",
    "  - PMF bolega: 3 aane ka chance = 1/6. 5 aane ka chance = 1/6.\n",
    "  - Har number ke liye ek probability hai, aur saari probabilities ko jodo toh 1 banta hai.\n",
    "- **Apply kaise karna?** Agar tujhe pata karna hai ki koi specific cheez kitni baar hogi (jaise dice mein 4 kitni baar aayega), toh PMF use kar. Jaise, agar tu 600 baar dice roll karega, toh 4 aane ki ummeed = 600 × 1/6 = 100 baar.\n",
    "\n",
    "---\n",
    "\n",
    "### 2. **PDF (Probability Density Function)**  \n",
    "- **Kya hai yeh?** Yeh **continuous random variables** ke liye hota hai. Continuous matlab jo cheez koi bhi value le sakti hai ek range mein, jaise kisi ki height (5.5 ft, 5.67 ft, 5.789 ft, etc.). PDF batata hai ki probability kaise spread hai.\n",
    "- **Simple Hindi mein:** Soch, ek graph hai jo dikhata hai ki kaunsi values zyada likely hain. Yeh graph ek curve jaisa hota hai. Lekin exact ek number (jaise 5.7 ft) ka chance nahi batata, kyunki continuous mein exact value ka chance zero hota hai. Toh tu ek range (jaise 5.6 se 5.8 ft) ka area dekhta hai curve ke neeche, woh tujhe probability deta hai.\n",
    "- **Example:** Logon ki height ka graph soch:\n",
    "  - Curve ka sabse uncha hissa shayad 5’7” pe hoga (kyunki wahan zyada log hain).\n",
    "  - Agar tujhe probability chahiye ki koi 5’6” se 5’8” ke beech hai, toh us curve ke neeche ka area nikaal.\n",
    "- **Apply kaise karna?** Agar tujhe ek range ke chances pata karne hain (jaise kitne log 5’6” se 5’8” ke beech honge), toh PDF ka use kar. Yeh science, engineering, ya data analysis mein kaam aata hai, jaise weather prediction ya population studies.\n",
    "\n",
    "---\n",
    "\n",
    "### 3. **CDF (Cumulative Distribution Function)**  \n",
    "- **Kya hai yeh?** Yeh **dono discrete aur continuous** ke liye kaam karta hai. CDF batata hai ki koi random cheez ek certain value se kam ya barabar hone ka kitna chance hai.\n",
    "- **Simple Hindi mein:** Yeh ek tarah ka running total hai. Jaise jaise tu values badhata hai, yeh batata hai ki ab tak kitni probability jama ho chuki hai. Soch, ek meter jo 0 se shuru hota hai aur 1 tak jata hai.\n",
    "- **Example:**\n",
    "  - Dice ke liye (discrete):\n",
    "    - CDF at 3 = 3 ya usse kam aane ka chance = P(1) + P(2) + P(3) = 1/6 + 1/6 + 1/6 = 3/6 = 0.5.\n",
    "  - Height ke liye (continuous):\n",
    "    - CDF at 5’7” = 5’7” ya usse kam height ka chance = Curve ke neeche ka area from bohot chhota number (minus infinity) to 5’7”.\n",
    "- **Apply kaise karna?** CDF ka use tab hota hai jab tujhe “isse kam ya barabar” wala chance chahiye. Jaise, “80% students ka score 75 marks se kam hai” – yeh CDF se pata chalega. Yeh risk analysis, quality control, ya exams ke result analysis mein kaam aata hai.\n",
    "\n",
    "---\n",
    "\n",
    "### Ek Quick Tareeka Samajhne Ka:\n",
    "- **PMF**: Ek bar chart jaisa soch, har bar ek specific value ka chance dikhata hai (sirf discrete ke liye).\n",
    "- **PDF**: Ek smooth curve jaisa soch, jisme area probability batata hai (sirf continuous ke liye).\n",
    "- **CDF**: Ek graph jo dheere dheere 0 se 1 tak chadhta hai, dikhata hai kitni probability jama ho gayi (dono ke liye).\n",
    "\n",
    "---\n",
    "\n",
    "### Kahan Apply Karega?\n",
    "1. **PMF**: Jab tujhe exact outcomes ke chances chahiye. Jaise, ek game mein specific score kitni baar aayega.\n",
    "2. **PDF**: Jab tujhe continuous cheez ke range ka chance chahiye. Jaise, ek city mein logon ki height ya temperature ka pattern.\n",
    "3. **CDF**: Jab tujhe “isse kam” ya “isse zyada” ka chance chahiye. Jaise, kitne log 90% se kam marks layenge.\n",
    "\n",
    "---\n",
    "\n",
    "### Ek Practical Example:\n",
    "Maan le tu ek app bana raha hai jo students ke marks predict karta hai (continuous variable, 0-100 ke beech).\n",
    "- **PDF** se tu yeh pata kar sakta hai ki kitne students 80-90 marks ke beech honge (area under curve).\n",
    "- **CDF** se tu yeh pata kar sakta hai ki kitne students 85 se kam marks layenge (ek single value tak ka total).\n",
    "- Agar tu categorical data use kar raha hai (jaise pass/fail), toh **PMF** se tu yeh pata kar sakta hai ki kitne students pass honge.\n"
   ]
  },
  {
   "cell_type": "markdown",
   "id": "2f6cc8f6",
   "metadata": {},
   "source": [
    "#### https://365datascience.com/tutorials/excel-tutorials/10-excel-project-ideas-for-your-data-science-portfolio/"
   ]
  },
  {
   "cell_type": "markdown",
   "id": "7b9966bc",
   "metadata": {},
   "source": []
  },
  {
   "cell_type": "markdown",
   "id": "4ebdb4ed",
   "metadata": {},
   "source": []
  },
  {
   "cell_type": "markdown",
   "id": "f5f646d7",
   "metadata": {},
   "source": []
  },
  {
   "cell_type": "markdown",
   "id": "d273936c",
   "metadata": {},
   "source": []
  }
 ],
 "metadata": {
  "kernelspec": {
   "display_name": "Python 3",
   "language": "python",
   "name": "python3"
  },
  "language_info": {
   "name": "python",
   "version": "3.10.0"
  }
 },
 "nbformat": 4,
 "nbformat_minor": 5
}
