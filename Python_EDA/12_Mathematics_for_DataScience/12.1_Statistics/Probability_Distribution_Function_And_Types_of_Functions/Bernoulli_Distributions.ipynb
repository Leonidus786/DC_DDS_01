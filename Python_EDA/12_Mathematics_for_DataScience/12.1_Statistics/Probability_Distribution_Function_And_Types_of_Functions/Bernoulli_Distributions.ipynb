{
 "cells": [
  {
   "cell_type": "markdown",
   "id": "6c921163",
   "metadata": {},
   "source": [
    "#### Definition-- It is the simplest discrete probability distribution. It represents the probability distribution of a random variable that has exactly two possible outcomes: success(with probability p) and failure(with probability 1-p). It is used to model binary outcomes, such as coin flip or a yes/no question."
   ]
  },
  {
   "cell_type": "markdown",
   "id": "829441b8",
   "metadata": {},
   "source": [
    "0 <= p <= 1\n",
    "\n",
    "q = 1-p \n",
    "\n",
    "k = {0,1} "
   ]
  },
  {
   "cell_type": "markdown",
   "id": "06a39cb7",
   "metadata": {},
   "source": [
    "p(H) = 0.5 = p\n",
    "\n",
    "p(T) = 1 - 0.5 = 0.5"
   ]
  },
  {
   "cell_type": "markdown",
   "id": "0f4c85e6",
   "metadata": {},
   "source": [
    "p(Pass) = 0.4 = p \n",
    "\n",
    "p(Fail) = 1- p(Pass) = 0.6 "
   ]
  },
  {
   "cell_type": "markdown",
   "id": "6614d0c7",
   "metadata": {},
   "source": [
    "p(Success) = k = 1\n",
    "\n",
    "p(Fail) = 0"
   ]
  },
  {
   "cell_type": "markdown",
   "id": "b9a665d8",
   "metadata": {},
   "source": [
    "p(Rishi Use ) = 60% = 0.6 \n",
    "\n",
    "P(Sagar Use) = 1- 0.6 = 40%"
   ]
  },
  {
   "cell_type": "markdown",
   "id": "3893ef48",
   "metadata": {},
   "source": [
    "https://www.datacamp.com/tutorial/bernoulli-distribution"
   ]
  },
  {
   "cell_type": "code",
   "execution_count": 2,
   "id": "205614c0",
   "metadata": {},
   "outputs": [],
   "source": [
    "# https://www.geeksforgeeks.org/bernoulli-distribution-in-business-statistics-mean-and-variance/"
   ]
  },
  {
   "cell_type": "markdown",
   "id": "e929fd94",
   "metadata": {},
   "source": [
    "mean = 0 if p< 1/2\n",
    "\n",
    "    = 1,0 if p = 1/2\n",
    "    \n",
    "    = 1 if p > 1/2 "
   ]
  },
  {
   "cell_type": "markdown",
   "id": "b33bc58b",
   "metadata": {},
   "source": [
    "mode \n",
    "\n",
    "p > q in this situation p is mode otherwise q is mode."
   ]
  },
  {
   "cell_type": "markdown",
   "id": "eab480ab",
   "metadata": {},
   "source": [
    "variance = p.q"
   ]
  },
  {
   "cell_type": "markdown",
   "id": "427b4172",
   "metadata": {},
   "source": [
    "standard deviation = underroot of pq"
   ]
  },
  {
   "cell_type": "markdown",
   "id": "4b0f280f",
   "metadata": {},
   "source": [
    "https://www.geeksforgeeks.org/binomial-distribution-in-business-statistics-definition-formula-examples/"
   ]
  },
  {
   "cell_type": "markdown",
   "id": "f758893b",
   "metadata": {},
   "source": [
    "nCx =n!/x!(n−x)!\n",
    "\n",
    "\n",
    "5! = 5*4*3*2*1\n",
    "\n",
    "4 C 2 = 2*3**1/\n",
    " \n",
    "\n",
    "\n",
    "​\n"
   ]
  }
 ],
 "metadata": {
  "kernelspec": {
   "display_name": "Python 3",
   "language": "python",
   "name": "python3"
  },
  "language_info": {
   "codemirror_mode": {
    "name": "ipython",
    "version": 3
   },
   "file_extension": ".py",
   "mimetype": "text/x-python",
   "name": "python",
   "nbconvert_exporter": "python",
   "pygments_lexer": "ipython3",
   "version": "3.10.0"
  }
 },
 "nbformat": 4,
 "nbformat_minor": 5
}
