{
 "cells": [
  {
   "cell_type": "markdown",
   "id": "025d363a",
   "metadata": {},
   "source": [
    "Percentile -- A value below which certain percentage of observations lie.\n"
   ]
  },
  {
   "cell_type": "markdown",
   "id": "ce4163cb",
   "metadata": {},
   "source": [
    "What is Skewness?\n",
    "Skewness can be defined as a statistical measure that describes the lack of symmetry or asymmetry in the probability distribution of a dataset. It quantifies the degree to which the data deviates from a perfectly symmetrical distribution, such as a normal (bell-shaped) distribution. Skewness is a valuable statistical term because it provides insight into the shape and nature of a dataset's distribution. For example, understanding whether a dataset is positively or negatively skewed can be important in various fields, including finance, economics, and data analysis, as it can impact the interpretation of data and the choice of statistical techniques.\n"
   ]
  },
  {
   "cell_type": "markdown",
   "id": "2f342b7a",
   "metadata": {},
   "source": [
    "Tests of Skewness\n",
    "There are several statistical tests and methods to assess the skewness of a dataset. These tests can help you determine whether a dataset is positively skewed, negatively skewed, or approximately symmetric. Here are some common tests and techniques used to assess skewness:\n",
    "\n",
    "1. Visual Inspection: The simplest way to assess skewness is by creating a histogram or a density plot of the given data. If the plot is skewed to the left, it is negatively skewed, and if the plot is skewed to the right, it is positively skewed. If the plot is roughly symmetric, it has no skewness.\n",
    "\n",
    "2. Skewness Coefficient (Pearson's First Coefficient of Skewness): This is a numerical measure of skewness, which determines the skewness when mean and mode are not equal. It is calculated as:\n",
    "\n",
    "Skewness as per Karl Pearson's Measure\n",
    "Skewness = Mean - Mode\n",
    "\n",
    "Skewness of Karl Pearson's Measure\n",
    "If mean is greater than mode, the skewness will consist positive value.\n",
    "In case of mean is smaller than mode, the skewness will be a negative value.\n",
    "In case of equality of mean and mode, the skewness will be zero. 3. Quartiles are not equidistant from each other; i.e., Q3-Q2 != q2-q1\n"
   ]
  },
  {
   "cell_type": "markdown",
   "id": "2cb7c9f3",
   "metadata": {},
   "source": [
    "1. Positive Skewness (Right Skew)\n",
    "   In a positively skewed distribution, the tail on the right side (the larger values) is longer than the tail on the left side (the smaller values). This means that the majority of data points are concentrated on the left side of the distribution, and there are some extreme values on the right side. In the case of a positively skewed dataset,\n",
    "\n",
    "Mean > Median > Mode\n",
    "\n",
    "Examples of positively skewed data include income distribution (where most people earn a moderate income, but a few earn extremely high incomes), exam scores (where most students score in a certain range, but a few score exceptionally high), and stock market returns (where most days have modest returns, but a few days may have very high returns).\n",
    "\n",
    "q3-q2 >= q2-q1\n"
   ]
  },
  {
   "cell_type": "markdown",
   "id": "b9dd4e81",
   "metadata": {},
   "source": [
    "2. Negative Skewness (Left Skew)\n",
    "   In a negatively skewed distribution, the tail on the left side (the smaller values) is longer than the tail on the right side (the larger values). This implies that most of the data points are concentrated on the right side of the distribution, with a few extreme values on the left side. In the case of a negatively skewed dataset,\n",
    "\n",
    "Mean < Median < Mode\n",
    "\n",
    "Examples of negatively skewed data include test scores on an easy test (where most students score well, but a few score very low), the age at retirement (where most people retire at a certain age, but a few retire exceptionally early), and the gestational age at birth (where most babies are born full-term, but a few are born prematurely).\n",
    "\n",
    "q3-q2 <= q2-q1\n"
   ]
  },
  {
   "cell_type": "markdown",
   "id": "ac6ed093",
   "metadata": {},
   "source": [
    "3. Zero Skewness (Symmetrical Distribution)\n",
    "   Zero skewness indicates a perfectly symmetrical distribution, where the mean, median, and mode are equal. In a symmetrical distribution, the data points are evenly distributed around the central point.\n",
    "\n",
    "Example: A perfectly balanced dataset with equal frequencies of all values.\n"
   ]
  },
  {
   "cell_type": "markdown",
   "id": "2871b541",
   "metadata": {},
   "source": [
    "https://www.geeksforgeeks.org/skewness-measures-and-interpretation/\n"
   ]
  },
  {
   "cell_type": "markdown",
   "id": "873d23f4",
   "metadata": {},
   "source": [
    "https://www.analyticsvidhya.com/blog/2024/08/best-youtube-channels-to-learn-statistics-for-free/\n"
   ]
  },
  {
   "cell_type": "markdown",
   "id": "bc383fb6",
   "metadata": {},
   "source": []
  }
 ],
 "metadata": {
  "kernelspec": {
   "display_name": "Python 3",
   "language": "python",
   "name": "python3"
  },
  "language_info": {
   "name": "python",
   "version": "3.10.0"
  }
 },
 "nbformat": 4,
 "nbformat_minor": 5
}
