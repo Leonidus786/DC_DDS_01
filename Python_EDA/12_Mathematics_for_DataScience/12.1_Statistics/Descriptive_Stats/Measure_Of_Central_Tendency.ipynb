{
 "cells": [
  {
   "cell_type": "markdown",
   "id": "47087982",
   "metadata": {},
   "source": []
  },
  {
   "cell_type": "markdown",
   "id": "1f21ff4a",
   "metadata": {},
   "source": [
    "### Measure of central tendency :-\n",
    "\n",
    "Measure of central tendency are statistical metrics that describe the center point or typical value of a dataset. They provide a single value that summarizes a set of data by identifying the central position.\n"
   ]
  },
  {
   "cell_type": "markdown",
   "id": "c95b69a8",
   "metadata": {},
   "source": [
    "1. Mean -- Mean is the sum of all values divided by the number of values.\n"
   ]
  },
  {
   "cell_type": "markdown",
   "id": "9ffe34f8",
   "metadata": {},
   "source": [
    "### Choosing the Appropriate Measure --\n",
    "\n",
    "1. Mean: Best used when data is symmetrically distributed without outliers. Provides a mathematical average, which is useful for further statistical calculations.\n",
    "\n",
    "2. Median: Best used when data is skewed or contains outliers. Provides the middle value, which better represents the center of a skewed dataset.\n",
    "\n",
    "3. Mode: Best used for categorical data to identify the most common category. Also useful for identifying the most frequent value in ordinal, interval or ratio data.\n",
    "d"
   ]
  },
  {
   "cell_type": "markdown",
   "id": "b32cd355",
   "metadata": {},
   "source": []
  },
  {
   "cell_type": "markdown",
   "id": "6e32d3eb",
   "metadata": {},
   "source": []
  },
  {
   "cell_type": "markdown",
   "id": "b69081ae",
   "metadata": {},
   "source": []
  },
  {
   "cell_type": "markdown",
   "id": "f69b88fb",
   "metadata": {},
   "source": []
  }
 ],
 "metadata": {
  "kernelspec": {
   "display_name": "Python 3",
   "language": "python",
   "name": "python3"
  },
  "language_info": {
   "name": "python",
   "version": "3.10.0"
  }
 },
 "nbformat": 4,
 "nbformat_minor": 5
}
