{
 "cells": [
  {
   "cell_type": "markdown",
   "id": "47e010fc",
   "metadata": {},
   "source": [
    "### Covariance and Correlation are two statistical measures used to determine the relationship between two variables. Both are used to understand how changes in one variable are associated with changes in another variable."
   ]
  },
  {
   "cell_type": "markdown",
   "id": "427d86f9",
   "metadata": {},
   "source": [
    "## Covariance\n",
    "\n",
    "\n",
    "### Definition-- Covariance is a measure of how much two random variables change together. If the variable tends to increase and decrease together, the covariance is positive. If one tends to increase when the other decreases, the covariance is negative."
   ]
  },
  {
   "cell_type": "markdown",
   "id": "8fdeca4a",
   "metadata": {},
   "source": []
  },
  {
   "cell_type": "markdown",
   "id": "68d0cc58",
   "metadata": {},
   "source": []
  },
  {
   "cell_type": "markdown",
   "id": "6c8f0234",
   "metadata": {},
   "source": []
  },
  {
   "cell_type": "markdown",
   "id": "4fbe97b2",
   "metadata": {},
   "source": []
  },
  {
   "cell_type": "markdown",
   "id": "ad5b650c",
   "metadata": {},
   "source": []
  },
  {
   "cell_type": "markdown",
   "id": "6556cbc3",
   "metadata": {},
   "source": []
  },
  {
   "cell_type": "markdown",
   "id": "2f240846",
   "metadata": {},
   "source": []
  },
  {
   "cell_type": "markdown",
   "metadata": {},
   "source": []
  },
  {
   "cell_type": "markdown",
   "metadata": {},
   "source": []
  }
 ],
 "metadata": {
  "language_info": {
   "name": "python"
  }
 },
 "nbformat": 4,
 "nbformat_minor": 5
}
