{
 "cells": [
  {
   "cell_type": "markdown",
   "id": "7bf654b1",
   "metadata": {},
   "source": [
    "## Measure of dispersion --\n",
    "\n",
    "- Measure of dispersion describe the spread or variability of a dataset. They indicate how much the values in a dataset differ from the central tendency."
   ]
  },
  {
   "cell_type": "markdown",
   "id": "b5be5ce7",
   "metadata": {},
   "source": [
    "### Common Measures of Dispersion\n",
    "\n",
    "(1). Range\n",
    "(2). Variance\n",
    "(3). Standard Deviation\n",
    "(4). Interquartile Range (IQR) -- Percentile"
   ]
  },
  {
   "cell_type": "markdown",
   "id": "57582729",
   "metadata": {},
   "source": [
    "# 1. Range -- \n",
    "\n",
    "### definition --> Range is the difference between the maximum and minimum values in a dataset.\n",
    "\n",
    "\n",
    "### Range = Maximum Value - Minimum Value\n",
    "\n",
    "Eg. -- Ages = {14,13,6, 10, 25, 75, 95}\n",
    "\n",
    "Range = 95 - 6 = 89\n",
    "\n",
    "\n",
    "#### Characteristics\n",
    "\n",
    "i. simple to calculate\n",
    "ii. Sensitive to outliers.\n",
    "iii. Rough measure of dispersion."
   ]
  },
  {
   "cell_type": "markdown",
   "id": "725b315e",
   "metadata": {},
   "source": [
    "# 2. Variance\n",
    "\n",
    "#### definition -- Variance measures the average squared deviation of each value from the mean. It provides a sense of how much values in a dataset vary.\n",
    "\n",
    "#### characteristics --\n",
    "\n",
    "1. provide a precise measure of variability.\n",
    "2. units are squared of the original data units.\n",
    "3. More sensitive to outliers than range."
   ]
  },
  {
   "cell_type": "code",
   "execution_count": null,
   "id": "73fe9c16",
   "metadata": {},
   "outputs": [],
   "source": []
  },
  {
   "cell_type": "markdown",
   "id": "e28a67d5",
   "metadata": {},
   "source": [
    "# 3. Standard Deviation -- \n",
    "#### defn -- The standard deviation is square root of the variance.\n",
    "\n"
   ]
  },
  {
   "cell_type": "markdown",
   "id": "2bac7580",
   "metadata": {},
   "source": [
    "### Relationship:\n",
    "\n",
    "Standard Deviation is the square root of variance. If you have the variance, you can find the standard deviation by taking the square root of the variance.\n",
    "Conversely, if you have the standard deviation, you can find the variance by squaring the standard deviation."
   ]
  },
  {
   "cell_type": "markdown",
   "id": "b0c03051",
   "metadata": {},
   "source": [
    "Units:\n",
    "\n",
    "### Variance -- The units of the variance are the squared units of the original data. For eg. if the data is in meters, the variance will be square meters.\n",
    "\n",
    "### Standard Deviation -- The units of standard deviation are the same as the units of the original data. If the data is in meters, the standard deviation will also be in meters."
   ]
  },
  {
   "cell_type": "markdown",
   "id": "e0fed5f8",
   "metadata": {},
   "source": [
    "Interpretation :- \n",
    "\n",
    "\n",
    "Variance -- Provides a measure of the dispersion of data points in squared units, which can be difficult to interpret directly.\n",
    "\n",
    "\n",
    "standard deviation -- Provides a measure of dispersion in the same units as the original data, making it easier to interpret and understand."
   ]
  },
  {
   "cell_type": "markdown",
   "id": "709e381d",
   "metadata": {},
   "source": [
    "`"
   ]
  }
 ],
 "metadata": {
  "kernelspec": {
   "display_name": "Python 3",
   "language": "python",
   "name": "python3"
  },
  "language_info": {
   "name": "python",
   "version": "3.10.0"
  }
 },
 "nbformat": 4,
 "nbformat_minor": 5
}
