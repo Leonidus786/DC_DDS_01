{
 "cells": [
  {
   "cell_type": "markdown",
   "id": "66ba8785",
   "metadata": {},
   "source": [
    "## Statistics\n",
    "\n",
    "### Statistics is the science of collecting, organizing (Decision Making) and analyzing the Data.\n"
   ]
  },
  {
   "cell_type": "markdown",
   "id": "e34ada7c",
   "metadata": {},
   "source": [
    "## Data - Facts or piece of information which can be measured, collected, analyzed.\n",
    "\n",
    "- Example --> (i). Weights of students in a class, (ii). IQ of the students in class.\n",
    "- (i) - 60kg, 50kg etc.. (ii) - 100, 90, 78 etc.\n"
   ]
  },
  {
   "cell_type": "markdown",
   "id": "04f9077e",
   "metadata": {},
   "source": [
    "### Types of Statistics---\n",
    "\n",
    "1. Descriptive Statistics -- Descriptive statistics involves methods for summarizing and organizing data to make it understandable. This type of statistics helps to describe basic feature of the data in study.\n",
    "   example :-\n",
    "   a. Measure of central tendency - (Mean, Median, Mode)\n",
    "   b. Measure of Dispersion - (Variance, Standard Deviation)\n",
    "   c. Data Distribution (i) Histograms, (ii) Box Plots, (iii) Pie Charts, (iv) PDF, PMF\n",
    "   d. Summary Statistics - (i) Five Number Summary - Q1, Q3, Maximum, Minimum, (Mean, Median, Mode)\n",
    "\n",
    "2. Inferential Statistics -- > Inferential statistics involves methods for making predictions or inferences about a population based on a sample of data. It allows for hypothesis testing, estimation, and drawing conclusions.\n",
    "   example -\n",
    "   a. Hypothesis Testing\n",
    "   b. P-value\n",
    "   c. Confidence Interval\n",
    "   d. Statistical Analysis Test -- (i) Z test, (ii) t-test, (iii) ANOVA --> F test, (iv) Chi Square Test\n"
   ]
  },
  {
   "cell_type": "markdown",
   "id": "8a7801c1",
   "metadata": {},
   "source": [
    "### Application of Statistics:-\n",
    "\n",
    "1. Data Exploration and summarize\n",
    "2. Model Building and Validation\n",
    "3. Statistical Analysis --> Sample Data ---> Population Data\n",
    "4. Hypothesis Testing\n",
    "5. Optimization and Efficiency\n",
    "6. Reporting\n"
   ]
  },
  {
   "cell_type": "markdown",
   "id": "ec97d036",
   "metadata": {},
   "source": [
    "Ex - Let's say there are 20 students in a class.\n",
    "descritive -- what average height of students.\n",
    "inferential -- Are the average heights of the students of the class is similar to the average age of students.\n"
   ]
  },
  {
   "cell_type": "markdown",
   "id": "6ae73ff3",
   "metadata": {},
   "source": [
    "## Poulation\n",
    "\n",
    "- A population is the entire set of individuals or objects of interest in a particular study.\n",
    "- It includes all the members of a defined group thet we are studying or collecting information on.\n",
    "\n",
    "### Characteristics -\n",
    "\n",
    "1. Complete set -- Contains all the observation of interest.\n",
    "2. Parameter -- A numerical value, summarizing the entire population.\n",
    "   ex -\n",
    "   i. Population Mean (μ)\n",
    "   ii. Population Variance (σ²)\n",
    "\n",
    "### Examples -\n",
    "\n",
    "1. Population on a school study\n",
    "\n",
    "- All students enrolled in a school.\n",
    "- Determine the average height of students, Population mean.\n",
    "\n",
    "2. Population in a market research\n",
    "\n",
    "- All the consumers in a city.\n",
    "- To understand the purchasing behaviour of all consumers.\n",
    "\n",
    "3. Population in a Medical study\n",
    "\n",
    "- All the patients with a specific disease.\n",
    "- To study the effectiveness of a drug.\n"
   ]
  },
  {
   "cell_type": "markdown",
   "id": "0cefde32",
   "metadata": {},
   "source": [
    "## Sample\n",
    "\n",
    "- A sample is a subset of the population that is used to represent the entire group.\n",
    "- Sampling involves selecting a group of individuals or observations from the population to draw conclusions about the whole population.\n",
    "\n",
    "### Characteristics -\n",
    "\n",
    "1. Subset - Represent the portion of the population.\n",
    "2. Statistics - A numerical value. Summarizing the sample data.\n",
    "   ex- Sample Mean(x̄), Sample Variance(s²)\n",
    "\n",
    "3. Random Sampling - Samples should be randomly selected to avoid bias.\n",
    "\n",
    "### Examples -\n",
    "\n",
    "1. Sample in a school study\n",
    "\n",
    "- A group of 50 students from school.\n",
    "- usecase- Estimate the average height of students in a school.\n",
    "\n",
    "2. Population in a market research\n",
    "\n",
    "- 500 consumers from a city.\n",
    "- Behaviour ===> Population.\n",
    "\n",
    "3. Population in a Medical study\n",
    "\n",
    "- 200 patients with a specific disease.\n",
    "- To study the effectiveness of a drug.\n"
   ]
  },
  {
   "cell_type": "markdown",
   "id": "cce11157",
   "metadata": {},
   "source": [
    "### Types of Sampling Techniques\n",
    "\n",
    "1. Probability Sampling\n",
    "2. Non Probability Sampling\n"
   ]
  },
  {
   "cell_type": "markdown",
   "id": "af801b3f",
   "metadata": {},
   "source": [
    "1. Probability Sampling\n",
    "\n",
    "a. Simple Random Sampling -- Every member of population has and equal chance of being selected.\n",
    "\n",
    "Ex- Selecting peoples randomly.\n",
    "\n",
    "- Draw names random from a class of students.\n",
    "\n",
    "b. Systematic Sampling -- Select every nth individual of the population after a random starting point.\n",
    "\n",
    "- Airport --> Credit Card --> 5th, 10th person\n",
    "- Feedback Survey --- every 10th person\n",
    "\n",
    "c. Stratified Sampling - Divide the population into strata(groups) based on specific characteristics and then randomly sampling from each strata.\n",
    "\n",
    "- Employess -- Divide employees by their department and then randomly select a proportional number from each department to form a survey sample.\n",
    "- Age -- <12- 12-18 >18\n",
    "\n",
    "d. Cluster Sampling -- Divide the population into clusters, randomly selecting clusters, then sampling all the members from the selected cluster.\n",
    "\n",
    "- Randomly selecting several schools from a district and surveying all the teachers within those schools.\n",
    "\n",
    "e. Multi stage Sampling -- Combining several sampling methods. Usually involves selecting clusters then randomly sampling between those two clusters.\n",
    "\n",
    "- Randomly selected a country, randomly selected a city, In each selected city and randomly selected households for survey.\n"
   ]
  },
  {
   "cell_type": "markdown",
   "id": "a8f008bb",
   "metadata": {},
   "source": [
    "2. Non Probability Sampling --\n",
    "\n",
    "a. Convenience Sampling -- Selecting individuals who are easy to reach.\n",
    "\n",
    "- Surveying peple who are at mall.\n",
    "\n",
    "b. Judgemental (Purposive ) Sampling: - Select individuals based on the researchers judgement.\n",
    "\n",
    "- ex - Choose experts in a field to participate in a survey.\n",
    "\n",
    "c. Snowball Sampling -- Existing study subjects recruit future subjects from among their acquiantances.\n",
    "\n",
    "- Survey members of a rare disease.\n",
    "\n",
    "d. Quota Sampling -- Age, Group, Gender, Caste.\n",
    "\n",
    "## Selecting Sampling techniques depends on usecase.\n"
   ]
  },
  {
   "cell_type": "markdown",
   "id": "39c8bde8",
   "metadata": {},
   "source": []
  },
  {
   "cell_type": "markdown",
   "id": "f7e8a7ac",
   "metadata": {},
   "source": [
    "## Types of Data\n",
    "\n",
    "1. Quantitative\n",
    "2. Qualitative\n",
    "\n",
    "<!-- Rest kripya khud se likhe aur research jrur kre. -->\n"
   ]
  },
  {
   "cell_type": "markdown",
   "id": "a5d3eb05",
   "metadata": {},
   "source": [
    "1. Quantitative -- Numerical\n",
    "\n",
    "a. Discrete -- Whole Numbers\n",
    "\n",
    "b. Continuous -- Any value, floats, decimals\n",
    "\n",
    "2. Qualitative -- Categorical values\n",
    "\n",
    "a. Nominal -- No Rank --> Gender, Blood Group , Pincode\n",
    "\n",
    "b. Ordinal -- Rank --> Customer Feedback,\n"
   ]
  },
  {
   "cell_type": "markdown",
   "id": "1075ef9f",
   "metadata": {},
   "source": [
    "## Scales of measurement of data\n",
    "\n",
    "- The scales of measurement describe the nature of information within the values assigned to variables.\n",
    "\n",
    "4 scales of measurement :\n",
    "(i) Nominal\n",
    "(2) Ordinal\n",
    "(3) Interval\n",
    "(4) Ratio\n"
   ]
  },
  {
   "cell_type": "markdown",
   "id": "33d0174f",
   "metadata": {},
   "source": [
    "### 1. Nominal Scale -- This scale classifies data into distinct categories that do not have an intrinsic order.\n",
    "\n",
    "Qualitative / Categorical\n",
    "\n",
    "### characteristics\n",
    "\n",
    "(i) Data is categorized based on labels, names or qualities\n",
    "(ii) Categories are mutually exclusive.\n",
    "(iii) No logical order among categories [No rank]\n",
    "\n",
    "ex- gender, color, type of cuisines\n"
   ]
  },
  {
   "cell_type": "markdown",
   "id": "1e8fb0af",
   "metadata": {},
   "source": [
    "2. Ordinal scale-- This scale classifies the data into categories that can be ranked or ordered.\n",
    "\n",
    "### characteristics\n",
    "\n",
    "(i) Data is categorical and ranked in a specific order.\n",
    "(ii) The interval between ranks are not necessarily equal.\n",
    "\n",
    "ex - Education level, customer feedback, socio economic status\n",
    "\n",
    "High school 1\n",
    "\n",
    "Bachelors 2\n",
    "\n",
    "masters 3\n",
    "\n",
    "Doctorate 4\n"
   ]
  },
  {
   "cell_type": "markdown",
   "id": "57ec2bbf",
   "metadata": {},
   "source": [
    "### 3. Interval scale -- The interval scale not only categorizes and orders but also specify the exact difference between intervals. It lacks a true zero point.\n",
    "\n",
    "### characteristics\n",
    "\n",
    "(i) Data is ordered with consistent interval between values.\n",
    "(ii) Allows for meaningful comparison of differences [Ratio can't be measured.]\n",
    "(iii) No true zero point\n",
    "\n",
    "Ex -- Temperature in Fahrenheit, IQ scores, Calendar Years\n"
   ]
  },
  {
   "cell_type": "markdown",
   "id": "959ab5a3",
   "metadata": {},
   "source": [
    "### 4. Ratio Scale -- A ratio scale is a quantitative scale where there is a true zero and equal intervals between neighboring points. Unlike on an interval scale, a zero on a ratio scale means there is a total absence of the variable you are measuring.\n",
    "\n",
    "### Characteristics --\n",
    "\n",
    "(i) The order matters\n",
    "(ii) Differences are measurable.\n",
    "(iii) Contains a zero starting point\n",
    "\n",
    "Ex- Age, Height, Weight\n"
   ]
  },
  {
   "cell_type": "markdown",
   "id": "b25e39cb",
   "metadata": {},
   "source": []
  }
 ],
 "metadata": {
  "kernelspec": {
   "display_name": "Python 3",
   "language": "python",
   "name": "python3"
  },
  "language_info": {
   "name": "python",
   "version": "3.10.0"
  }
 },
 "nbformat": 4,
 "nbformat_minor": 5
}
