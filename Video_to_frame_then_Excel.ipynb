{
 "cells": [
  {
   "cell_type": "code",
   "execution_count": 2,
   "metadata": {},
   "outputs": [
    {
     "name": "stdout",
     "output_type": "stream",
     "text": [
      "Collecting opencv-python\n",
      "  Downloading opencv_python-4.10.0.84-cp37-abi3-win_amd64.whl.metadata (20 kB)\n",
      "Collecting numpy>=1.21.2 (from opencv-python)\n",
      "  Downloading numpy-2.2.1-cp313-cp313-win_amd64.whl.metadata (60 kB)\n",
      "Downloading opencv_python-4.10.0.84-cp37-abi3-win_amd64.whl (38.8 MB)\n",
      "   ---------------------------------------- 0.0/38.8 MB ? eta -:--:--\n",
      "   - -------------------------------------- 1.6/38.8 MB 12.8 MB/s eta 0:00:03\n",
      "   -- ------------------------------------- 2.4/38.8 MB 7.2 MB/s eta 0:00:06\n",
      "   --- ------------------------------------ 3.4/38.8 MB 6.1 MB/s eta 0:00:06\n",
      "   ---- ----------------------------------- 4.2/38.8 MB 5.6 MB/s eta 0:00:07\n",
      "   ----- ---------------------------------- 5.0/38.8 MB 4.6 MB/s eta 0:00:08\n",
      "   ----- ---------------------------------- 5.5/38.8 MB 4.4 MB/s eta 0:00:08\n",
      "   ------ --------------------------------- 6.3/38.8 MB 4.4 MB/s eta 0:00:08\n",
      "   ------- -------------------------------- 7.3/38.8 MB 4.3 MB/s eta 0:00:08\n",
      "   -------- ------------------------------- 8.1/38.8 MB 4.2 MB/s eta 0:00:08\n",
      "   -------- ------------------------------- 8.7/38.8 MB 4.1 MB/s eta 0:00:08\n",
      "   --------- ------------------------------ 9.7/38.8 MB 4.1 MB/s eta 0:00:08\n",
      "   ---------- ----------------------------- 10.5/38.8 MB 4.1 MB/s eta 0:00:07\n",
      "   ----------- ---------------------------- 11.3/38.8 MB 4.1 MB/s eta 0:00:07\n",
      "   ------------ --------------------------- 12.1/38.8 MB 4.0 MB/s eta 0:00:07\n",
      "   ------------- -------------------------- 12.8/38.8 MB 4.0 MB/s eta 0:00:07\n",
      "   -------------- ------------------------- 13.6/38.8 MB 4.0 MB/s eta 0:00:07\n",
      "   --------------- ------------------------ 14.7/38.8 MB 4.0 MB/s eta 0:00:06\n",
      "   --------------- ------------------------ 15.5/38.8 MB 4.0 MB/s eta 0:00:06\n",
      "   ----------------- ---------------------- 16.5/38.8 MB 4.0 MB/s eta 0:00:06\n",
      "   ----------------- ---------------------- 17.3/38.8 MB 4.1 MB/s eta 0:00:06\n",
      "   ------------------ --------------------- 18.4/38.8 MB 4.1 MB/s eta 0:00:06\n",
      "   ------------------- -------------------- 19.1/38.8 MB 4.1 MB/s eta 0:00:05\n",
      "   -------------------- ------------------- 20.2/38.8 MB 4.1 MB/s eta 0:00:05\n",
      "   --------------------- ------------------ 21.0/38.8 MB 4.1 MB/s eta 0:00:05\n",
      "   ---------------------- ----------------- 22.0/38.8 MB 4.1 MB/s eta 0:00:05\n",
      "   ----------------------- ---------------- 23.1/38.8 MB 4.2 MB/s eta 0:00:04\n",
      "   ------------------------ --------------- 24.1/38.8 MB 4.2 MB/s eta 0:00:04\n",
      "   ------------------------- -------------- 25.2/38.8 MB 4.2 MB/s eta 0:00:04\n",
      "   -------------------------- ------------- 26.2/38.8 MB 4.2 MB/s eta 0:00:03\n",
      "   --------------------------- ------------ 26.7/38.8 MB 4.2 MB/s eta 0:00:03\n",
      "   ---------------------------- ----------- 27.5/38.8 MB 4.2 MB/s eta 0:00:03\n",
      "   ----------------------------- ---------- 28.6/38.8 MB 4.2 MB/s eta 0:00:03\n",
      "   ------------------------------ --------- 29.4/38.8 MB 4.2 MB/s eta 0:00:03\n",
      "   ------------------------------- -------- 30.4/38.8 MB 4.2 MB/s eta 0:00:03\n",
      "   -------------------------------- ------- 31.5/38.8 MB 4.2 MB/s eta 0:00:02\n",
      "   --------------------------------- ------ 32.2/38.8 MB 4.2 MB/s eta 0:00:02\n",
      "   ---------------------------------- ----- 33.3/38.8 MB 4.2 MB/s eta 0:00:02\n",
      "   ----------------------------------- ---- 34.3/38.8 MB 4.2 MB/s eta 0:00:02\n",
      "   ----------------------------------- ---- 34.9/38.8 MB 4.2 MB/s eta 0:00:01\n",
      "   ------------------------------------ --- 35.4/38.8 MB 4.1 MB/s eta 0:00:01\n",
      "   ------------------------------------ --- 35.7/38.8 MB 4.1 MB/s eta 0:00:01\n",
      "   ------------------------------------ --- 35.9/38.8 MB 4.0 MB/s eta 0:00:01\n",
      "   ------------------------------------- -- 36.2/38.8 MB 3.9 MB/s eta 0:00:01\n",
      "   ------------------------------------- -- 36.4/38.8 MB 3.9 MB/s eta 0:00:01\n",
      "   ------------------------------------- -- 36.7/38.8 MB 3.8 MB/s eta 0:00:01\n",
      "   -------------------------------------- - 37.0/38.8 MB 3.8 MB/s eta 0:00:01\n",
      "   -------------------------------------- - 37.5/38.8 MB 3.7 MB/s eta 0:00:01\n",
      "   -------------------------------------- - 37.7/38.8 MB 3.6 MB/s eta 0:00:01\n",
      "   ---------------------------------------  38.0/38.8 MB 3.6 MB/s eta 0:00:01\n",
      "   ---------------------------------------  38.5/38.8 MB 3.6 MB/s eta 0:00:01\n",
      "   ---------------------------------------  38.8/38.8 MB 3.5 MB/s eta 0:00:01\n",
      "   ---------------------------------------- 38.8/38.8 MB 3.5 MB/s eta 0:00:00\n",
      "Downloading numpy-2.2.1-cp313-cp313-win_amd64.whl (12.6 MB)\n",
      "   ---------------------------------------- 0.0/12.6 MB ? eta -:--:--\n",
      "    --------------------------------------- 0.3/12.6 MB ? eta -:--:--\n",
      "   -- ------------------------------------- 0.8/12.6 MB 2.0 MB/s eta 0:00:06\n",
      "   ---- ----------------------------------- 1.3/12.6 MB 2.0 MB/s eta 0:00:06\n",
      "   ----- ---------------------------------- 1.8/12.6 MB 2.0 MB/s eta 0:00:06\n",
      "   ------ --------------------------------- 2.1/12.6 MB 2.1 MB/s eta 0:00:06\n",
      "   --------- ------------------------------ 2.9/12.6 MB 2.1 MB/s eta 0:00:05\n",
      "   ---------- ----------------------------- 3.4/12.6 MB 2.2 MB/s eta 0:00:05\n",
      "   ------------ --------------------------- 3.9/12.6 MB 2.2 MB/s eta 0:00:04\n",
      "   -------------- ------------------------- 4.5/12.6 MB 2.2 MB/s eta 0:00:04\n",
      "   --------------- ------------------------ 5.0/12.6 MB 2.3 MB/s eta 0:00:04\n",
      "   ----------------- ---------------------- 5.5/12.6 MB 2.3 MB/s eta 0:00:04\n",
      "   ------------------- -------------------- 6.3/12.6 MB 2.4 MB/s eta 0:00:03\n",
      "   --------------------- ------------------ 6.8/12.6 MB 2.4 MB/s eta 0:00:03\n",
      "   ------------------------ --------------- 7.6/12.6 MB 2.4 MB/s eta 0:00:03\n",
      "   -------------------------- ------------- 8.4/12.6 MB 2.5 MB/s eta 0:00:02\n",
      "   ---------------------------- ----------- 8.9/12.6 MB 2.5 MB/s eta 0:00:02\n",
      "   ------------------------------ --------- 9.7/12.6 MB 2.6 MB/s eta 0:00:02\n",
      "   -------------------------------- ------- 10.2/12.6 MB 2.6 MB/s eta 0:00:01\n",
      "   ---------------------------------- ----- 11.0/12.6 MB 2.6 MB/s eta 0:00:01\n",
      "   ------------------------------------- -- 11.8/12.6 MB 2.7 MB/s eta 0:00:01\n",
      "   ---------------------------------------  12.6/12.6 MB 2.7 MB/s eta 0:00:01\n",
      "   ---------------------------------------- 12.6/12.6 MB 2.7 MB/s eta 0:00:00\n",
      "Installing collected packages: numpy, opencv-python\n",
      "Successfully installed numpy-2.2.1 opencv-python-4.10.0.84\n",
      "Note: you may need to restart the kernel to use updated packages.\n"
     ]
    },
    {
     "name": "stderr",
     "output_type": "stream",
     "text": [
      "  WARNING: The scripts f2py.exe and numpy-config.exe are installed in 'd:\\DC_DDS_01\\venv\\Scripts' which is not on PATH.\n",
      "  Consider adding this directory to PATH or, if you prefer to suppress this warning, use --no-warn-script-location.\n"
     ]
    }
   ],
   "source": [
    "pip install opencv-python"
   ]
  },
  {
   "cell_type": "code",
   "execution_count": 4,
   "metadata": {},
   "outputs": [],
   "source": [
    "import cv2\n",
    "import os"
   ]
  },
  {
   "cell_type": "code",
   "execution_count": 5,
   "metadata": {},
   "outputs": [],
   "source": [
    "# Load the video\n",
    "video_path = \"C:/Users/ADMIN/Downloads/VID-20241226-WA0004.mp4\"\n",
    "cap = cv2.VideoCapture(video_path)\n",
    "\n",
    "# Desired location to save frames (update this to your preferred folder)\n",
    "save_directory = \"D:/DC_DDS_01\"\n",
    "\n",
    "# Create the directory if it doesn't exist\n",
    "os.makedirs(save_directory, exist_ok=True)\n",
    "\n",
    "frame_rate = 1  # Extract one frame per second\n",
    "count = 0\n",
    "\n",
    "while True:\n",
    "    ret, frame = cap.read()\n",
    "    if not ret:\n",
    "        break\n",
    "    if count % int(cap.get(cv2.CAP_PROP_FPS) // frame_rate) == 0:\n",
    "        frame_name = os.path.join(save_directory, f\"frame_{count}.png\")  # Save to desired location\n",
    "        cv2.imwrite(frame_name, frame)\n",
    "    count += 1\n",
    "\n",
    "cap.release()\n"
   ]
  },
  {
   "cell_type": "code",
   "execution_count": 6,
   "metadata": {},
   "outputs": [
    {
     "name": "stdout",
     "output_type": "stream",
     "text": [
      "Collecting pytesseract\n",
      "  Downloading pytesseract-0.3.13-py3-none-any.whl.metadata (11 kB)\n",
      "Collecting openpyxl\n",
      "  Downloading openpyxl-3.1.5-py2.py3-none-any.whl.metadata (2.5 kB)\n",
      "Collecting pillow\n",
      "  Downloading pillow-11.0.0-cp313-cp313-win_amd64.whl.metadata (9.3 kB)\n",
      "Requirement already satisfied: packaging>=21.3 in d:\\dc_dds_01\\venv\\lib\\site-packages (from pytesseract) (24.2)\n",
      "Collecting et-xmlfile (from openpyxl)\n",
      "  Downloading et_xmlfile-2.0.0-py3-none-any.whl.metadata (2.7 kB)\n",
      "Downloading pytesseract-0.3.13-py3-none-any.whl (14 kB)\n",
      "Downloading openpyxl-3.1.5-py2.py3-none-any.whl (250 kB)\n",
      "Downloading pillow-11.0.0-cp313-cp313-win_amd64.whl (2.6 MB)\n",
      "   ---------------------------------------- 0.0/2.6 MB ? eta -:--:--\n",
      "   ---------------- ----------------------- 1.0/2.6 MB 4.8 MB/s eta 0:00:01\n",
      "   -------------------- ------------------- 1.3/2.6 MB 3.3 MB/s eta 0:00:01\n",
      "   -------------------------------- ------- 2.1/2.6 MB 3.2 MB/s eta 0:00:01\n",
      "   ---------------------------------------- 2.6/2.6 MB 3.1 MB/s eta 0:00:00\n",
      "Downloading et_xmlfile-2.0.0-py3-none-any.whl (18 kB)\n",
      "Installing collected packages: pillow, et-xmlfile, pytesseract, openpyxl\n",
      "Successfully installed et-xmlfile-2.0.0 openpyxl-3.1.5 pillow-11.0.0 pytesseract-0.3.13\n",
      "Note: you may need to restart the kernel to use updated packages.\n"
     ]
    },
    {
     "name": "stderr",
     "output_type": "stream",
     "text": [
      "  WARNING: The script pytesseract.exe is installed in 'd:\\DC_DDS_01\\venv\\Scripts' which is not on PATH.\n",
      "  Consider adding this directory to PATH or, if you prefer to suppress this warning, use --no-warn-script-location.\n"
     ]
    }
   ],
   "source": [
    "pip install pytesseract openpyxl pillow"
   ]
  },
  {
   "cell_type": "code",
   "execution_count": 1,
   "metadata": {},
   "outputs": [],
   "source": [
    "import os\n",
    "import pytesseract\n",
    "from PIL import Image\n",
    "import openpyxl\n"
   ]
  },
  {
   "cell_type": "code",
   "execution_count": 4,
   "metadata": {},
   "outputs": [
    {
     "name": "stdout",
     "output_type": "stream",
     "text": [
      "Data successfully extracted and saved to D:/DC_DDS_01/Frames/Extracted_Contacts.xlsx\n"
     ]
    }
   ],
   "source": [
    "# Path to the folder containing frames\n",
    "frames_folder = \"D:/DC_DDS_01/Frames\"  # Update this with the folder containing the frames\n",
    "\n",
    "# Path to save the Excel file\n",
    "excel_output = \"D:/DC_DDS_01/Frames/Extracted_Contacts.xlsx\"  # Update with your desired Excel location\n",
    "\n",
    "# Initialize Excel workbook\n",
    "wb = openpyxl.Workbook()\n",
    "ws = wb.active\n",
    "ws.title = \"Contacts\"\n",
    "ws.append([\"Name\", \"Contact Number\"])  # Add headers\n",
    "\n",
    "# Configure Tesseract OCR (update path if necessary)\n",
    "pytesseract.pytesseract.tesseract_cmd = r\"C:/Program Files/Tesseract-OCR/tesseract.exe\"  # Update if Tesseract is installed elsewhere\n",
    "\n",
    "# Loop through all images in the folder\n",
    "for frame in sorted(os.listdir(frames_folder)):\n",
    "    if frame.endswith((\".png\", \".jpg\", \".jpeg\")):  # Check for image files\n",
    "        frame_path = os.path.join(frames_folder, frame)\n",
    "        image = Image.open(frame_path)\n",
    "        \n",
    "        # Extract text using Tesseract\n",
    "        extracted_text = pytesseract.image_to_string(image)\n",
    "        \n",
    "        # Process extracted text to find names and contact numbers\n",
    "        lines = extracted_text.splitlines()\n",
    "        for line in lines:\n",
    "            line = line.strip()\n",
    "            if line:\n",
    "                # Simple pattern to identify contact numbers (you can adjust for your specific needs)\n",
    "                if any(char.isdigit() for char in line):  # A line with numbers (likely a contact number)\n",
    "                    ws.append([None, line])  # Add contact number only\n",
    "                else:\n",
    "                    ws.append([line, None])  # Add name only\n",
    "\n",
    "# Save the extracted data to Excel\n",
    "os.makedirs(os.path.dirname(excel_output), exist_ok=True)  # Ensure the output directory exists\n",
    "wb.save(excel_output)\n",
    "print(f\"Data successfully extracted and saved to {excel_output}\")"
   ]
  },
  {
   "cell_type": "code",
   "execution_count": null,
   "metadata": {},
   "outputs": [],
   "source": []
  }
 ],
 "metadata": {
  "kernelspec": {
   "display_name": "Python 3",
   "language": "python",
   "name": "python3"
  },
  "language_info": {
   "codemirror_mode": {
    "name": "ipython",
    "version": 3
   },
   "file_extension": ".py",
   "mimetype": "text/x-python",
   "name": "python",
   "nbconvert_exporter": "python",
   "pygments_lexer": "ipython3",
   "version": "3.10.0"
  }
 },
 "nbformat": 4,
 "nbformat_minor": 2
}
